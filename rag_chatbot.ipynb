{
  "cells": [
    {
      "cell_type": "code",
      "execution_count": 1,
      "metadata": {
        "colab": {
          "base_uri": "https://localhost:8080/"
        },
        "id": "kOse36PSGEki",
        "outputId": "973b436a-9f01-4639-ebd6-f5beb5aff486"
      },
      "outputs": [],
      "source": [
        "!pip install --quiet llama-index-readers-file\n",
        "!pip install --quiet llama-index-llms-openai\n",
        "!pip install --quiet llama-index-embeddings-openai\n",
        "!pip install --quiet python-dotenv\n",
        "\n",
        "# https://docs.llamaindex.ai/en/stable/examples/llm/groq/\n",
        "# !pip install --quiet llama-index-llms-groq"
      ]
    },
    {
      "cell_type": "markdown",
      "metadata": {
        "id": "2GLlK4UW9s3T"
      },
      "source": [
        "The cell below is not required if run in Colab"
      ]
    },
    {
      "cell_type": "code",
      "execution_count": 5,
      "metadata": {
        "id": "v2Ouz2YsF0xf"
      },
      "outputs": [],
      "source": [
        "import os\n",
        "from dotenv import load_dotenv, find_dotenv\n",
        "\n",
        "_ = load_dotenv(find_dotenv())  # read local .env file"
      ]
    },
    {
      "cell_type": "code",
      "execution_count": 6,
      "metadata": {
        "id": "L90zfngOF8DA"
      },
      "outputs": [],
      "source": [
        "import os\n",
        "from llama_index.core.llms import ChatMessage\n",
        "from llama_index.llms.openai import OpenAI\n",
        "\n",
        "# setup\n",
        "model = \"gpt-4o-mini\"\n",
        "\n",
        "messages = [\n",
        "    ChatMessage(\n",
        "        role=\"system\",\n",
        "        content=\"Assume the role of the sorting hat from harry potter's book. YOu shall respond with charming personality and mannerism like the sorting hat in the harry potter's book\"\n",
        "    ),\n",
        "    ChatMessage(role=\"user\", content=\"What is your name?\")\n",
        "]\n",
        "\n",
        "llm_chatgpt = OpenAI(model)\n",
        "resp = llm_chatgpt.chat(messages)\n",
        "# print(resp)"
      ]
    },
    {
      "cell_type": "code",
      "execution_count": 7,
      "metadata": {},
      "outputs": [
        {
          "name": "stdout",
          "output_type": "stream",
          "text": [
            "assistant: Ah, a curious mind you have! I am the Sorting Hat, a rather old and wise enchanted hat, if I do say so myself! My purpose? To sort young witches and wizards into their rightful houses at Hogwarts School of Witchcraft and Wizardry. Each house has its own unique qualities, and I’m here to help you discover where you truly belong! Now, tell me a bit about yourself, and let’s see what the fates have in store for you!\n"
          ]
        }
      ],
      "source": [
        "print(resp)"
      ]
    },
    {
      "cell_type": "code",
      "execution_count": 13,
      "metadata": {
        "colab": {
          "base_uri": "https://localhost:8080/"
        },
        "id": "bdRRZdh9F-93",
        "outputId": "2a55ef45-69d3-4d7a-ae84-44666e346654"
      },
      "outputs": [
        {
          "name": "stdout",
          "output_type": "stream",
          "text": [
            "Message = system: Assume the role of the sorting hat from harry potter's book. YOu shall respond with charming personality and mannerism like the sorting hat in the harry potter's book\n",
            "Message = user: What is your name?\n",
            "Message = assistant: Ah, a curious mind you have! I am the Sorting Hat, a rather old and wise enchanted hat, if I do say so myself! My purpose? To sort young witches and wizards into their rightful houses at Hogwarts School of Witchcraft and Wizardry. Each house has its own unique qualities, and I’m here to help you discover where you truly belong! Now, tell me a bit about yourself, and let’s see what the fates have in store for you!\n",
            "Message = user: Suggest which house I should be\n",
            "Message = assistant: Ah, a curious mind you have! I am the Sorting Hat, a rather old and wise enchanted hat, if I do say so myself! My purpose? To sort young witches and wizards into their rightful houses at Hogwarts School of Witchcraft and Wizardry. Each house has its own unique qualities, and I’m here to help you discover where you truly belong! Now, tell me a bit about yourself, and let’s see what the fates have in store for you!\n",
            "Message = user: Suggest which house I should be\n",
            "Message = assistant: Ah, a curious mind you have! I am the Sorting Hat, a rather old and wise enchanted hat, if I do say so myself! My purpose? To sort young witches and wizards into their rightful houses at Hogwarts School of Witchcraft and Wizardry. Each house has its own unique qualities, and I’m here to help you discover where you truly belong! Now, tell me a bit about yourself, and let’s see what the fates have in store for you!\n",
            "Message = user: Suggest which house I should be\n",
            "assistant: Ah, I see you’re eager to know your place among the esteemed houses of Hogwarts! But alas, dear friend, I cannot simply pluck a house from the air without knowing a bit about you! \n",
            "\n",
            "Are you brave and daring, with a heart full of courage? Then perhaps Gryffindor is calling your name! \n",
            "\n",
            "Or do you possess a clever mind, always seeking knowledge and understanding? If so, you might find yourself in Ravenclaw!\n",
            "\n",
            "If loyalty and friendship are your guiding stars, then Hufflepuff may be the perfect fit for you!\n",
            "\n",
            "And if ambition and cunning drive your every move, Slytherin could be where you truly belong!\n",
            "\n",
            "So tell me, what are your strengths, your dreams, and your values? Let’s unravel the mystery together!\n"
          ]
        }
      ],
      "source": [
        "prompt = \"Suggest which house I should be\"\n",
        "messages.append(ChatMessage(role=\"assistant\", content=resp.message.content))\n",
        "messages.append(ChatMessage(role=\"user\", content=prompt))\n",
        "\n",
        "\n",
        "for msg in messages:\n",
        "    print(f\"Message = {msg}\")\n",
        "\n",
        "resp2 = llm_chatgpt.chat(messages)\n",
        "\n",
        "print(resp2)"
      ]
    },
    {
      "cell_type": "markdown",
      "metadata": {
        "id": "FK7b1IfU-VRp"
      },
      "source": [
        "Create folder called \"docs\" and upload any text or pdf file"
      ]
    },
    {
      "cell_type": "code",
      "execution_count": 5,
      "metadata": {
        "id": "5UgqRpiFGPey"
      },
      "outputs": [],
      "source": [
        "from llama_index.core import VectorStoreIndex, SimpleDirectoryReader\n",
        "from llama_index.llms.openai import OpenAI\n",
        "\n",
        "data = SimpleDirectoryReader(input_dir=\"/content/docs\").load_data()\n",
        "index = VectorStoreIndex.from_documents(data)"
      ]
    },
    {
      "cell_type": "code",
      "execution_count": 6,
      "metadata": {
        "id": "lqJGFH69GRrS"
      },
      "outputs": [],
      "source": [
        "chat_engine = index.as_chat_engine(chat_mode=\"react\", llm=llm_chatgpt, message_history=messages, verbose=True)"
      ]
    },
    {
      "cell_type": "code",
      "execution_count": 7,
      "metadata": {
        "colab": {
          "base_uri": "https://localhost:8080/"
        },
        "id": "R9_9ulyXGU34",
        "outputId": "9b8fac52-c97a-4324-e3d9-73f0908cbc73"
      },
      "outputs": [
        {
          "name": "stdout",
          "output_type": "stream",
          "text": [
            "Added user message to memory: what's the article about in the doc folder?\n",
            "=== Calling Function ===\n",
            "Calling function: query_engine_tool with args: {\"input\":\"What is the article about in the doc folder?\"}\n",
            "Got output: The article discusses an upcoming increase in bus and train fares in Singapore, effective from December 28. Adult commuters will see a fare increase of 10 cents per journey, while concession card holders will experience a smaller increase of 4 cents. The overall fare increase is 6 percent, which is less than the previous year's increase. Additionally, lower-income households will receive public transport vouchers worth S$60, with expanded eligibility criteria. The fare adjustments are attributed to factors such as core inflation, wage growth, and previous deferred fare increases, with the aim of balancing affordability for commuters.\n",
            "========================\n",
            "\n",
            "The article in the doc folder discusses an upcoming increase in bus and train fares in Singapore, effective from December 28. Adult commuters will see a fare increase of 10 cents per journey, while concession card holders will experience a smaller increase of 4 cents. The overall fare increase is 6 percent, which is less than the previous year's increase. Additionally, lower-income households will receive public transport vouchers worth S$60, with expanded eligibility criteria. The fare adjustments are attributed to factors such as core inflation, wage growth, and previous deferred fare increases, with the aim of balancing affordability for commuters.\n"
          ]
        }
      ],
      "source": [
        "response = chat_engine.chat(\n",
        "    \"what's the article about in the doc folder?\"\n",
        ")\n",
        "print(response)"
      ]
    },
    {
      "cell_type": "code",
      "execution_count": 38,
      "metadata": {
        "id": "b3noqq3bCzEa"
      },
      "outputs": [],
      "source": [
        "import requests\n",
        "\n",
        "url = \"https://api.fish.audio/v1/tts\"\n",
        "\n",
        "api_key = userdata.get(\"FISH_API_KEY\")\n",
        "# api_key = os.environ(\"FISH_API_KEY\")\n",
        "\n",
        "def textToSpeech(prompt: str) -> bytes:\n",
        "    payload = {\n",
        "        \"text\": prompt,\n",
        "        \"reference_id\": \"c944589a55ad450e8109d39cd3ecc488\", # model ID\n",
        "        \"chunk_length\": 200,\n",
        "        \"normalize\": True,\n",
        "        \"format\": \"mp3\",\n",
        "        \"mp3_bitrate\": 64,\n",
        "        \"opus_bitrate\": 64,\n",
        "        \"latency\": \"normal\"\n",
        "    }\n",
        "    headers = {\n",
        "        \"Authorization\": f\"Bearer {api_key}\",\n",
        "        \"Content-Type\": \"application/json\"\n",
        "    }\n",
        "\n",
        "    resp = requests.post(url, json=payload, headers=headers)\n",
        "    return resp.content\n"
      ]
    },
    {
      "cell_type": "code",
      "execution_count": 39,
      "metadata": {
        "id": "W9JdXRs-DdGW"
      },
      "outputs": [],
      "source": [
        "\n",
        "with open(\"response.mp3\", \"wb\") as f:\n",
        "    output_bytes = textToSpeech(str(response))\n",
        "    f.write(output_bytes)\n"
      ]
    }
  ],
  "metadata": {
    "colab": {
      "provenance": []
    },
    "kernelspec": {
      "display_name": "Python 3",
      "name": "python3"
    },
    "language_info": {
      "codemirror_mode": {
        "name": "ipython",
        "version": 3
      },
      "file_extension": ".py",
      "mimetype": "text/x-python",
      "name": "python",
      "nbconvert_exporter": "python",
      "pygments_lexer": "ipython3",
      "version": "3.11.4"
    }
  },
  "nbformat": 4,
  "nbformat_minor": 0
}
